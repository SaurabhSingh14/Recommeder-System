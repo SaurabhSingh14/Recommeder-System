{
 "cells": [
  {
   "cell_type": "markdown",
   "metadata": {},
   "source": [
    "## Importing the dataset"
   ]
  },
  {
   "cell_type": "code",
   "execution_count": 1,
   "metadata": {},
   "outputs": [],
   "source": [
    "import numpy as np\n",
    "import pandas as pd"
   ]
  },
  {
   "cell_type": "code",
   "execution_count": 2,
   "metadata": {},
   "outputs": [],
   "source": [
    "training_set = pd.read_csv('ml-100k/u1.base', delimiter = '\\t')\n",
    "training_set = np.array(training_set, dtype = 'int')\n",
    "test_set = pd.read_csv('ml-100k/u1.test', delimiter = '\\t')\n",
    "test_set = np.array(test_set, dtype = 'int')"
   ]
  },
  {
   "cell_type": "code",
   "execution_count": 3,
   "metadata": {},
   "outputs": [
    {
     "name": "stdout",
     "output_type": "stream",
     "text": [
      "[[        1         2         3 876893171]\n",
      " [        1         3         4 878542960]\n",
      " [        1         4         3 876893119]\n",
      " ...\n",
      " [      943      1188         3 888640250]\n",
      " [      943      1228         3 888640275]\n",
      " [      943      1330         3 888692465]]\n"
     ]
    }
   ],
   "source": [
    "print(training_set)"
   ]
  },
  {
   "cell_type": "markdown",
   "metadata": {},
   "source": [
    "## Getting total number of users and movies"
   ]
  },
  {
   "cell_type": "code",
   "execution_count": 4,
   "metadata": {},
   "outputs": [
    {
     "name": "stdout",
     "output_type": "stream",
     "text": [
      "total movies:  1682\n",
      "total users:  943\n"
     ]
    }
   ],
   "source": [
    "total_movies = int(max(max(training_set[:,1]), max(test_set[:, 1])))\n",
    "total_users = int(max(max(training_set[:,0]), max(test_set[:, 0])))\n",
    "print('total movies: ', total_movies)\n",
    "print('total users: ', total_users)"
   ]
  },
  {
   "cell_type": "markdown",
   "metadata": {},
   "source": [
    "## Data Preprocessing"
   ]
  },
  {
   "cell_type": "code",
   "execution_count": 5,
   "metadata": {},
   "outputs": [],
   "source": [
    "def preprocessing(data):\n",
    "    new_data = []\n",
    "    for user in range(1, total_users + 1):\n",
    "        data_movies = data[:, 1][data[:, 0] == user]\n",
    "        data_ratings = data[:, 2][data[:, 0] == user]\n",
    "        ratings = np.zeros(total_movies)\n",
    "        ratings[data_movies - 1] = data_ratings\n",
    "        new_data.append(list(ratings))\n",
    "    return new_data\n",
    "\n",
    "updated_training_set = preprocessing(training_set)\n",
    "updated_test_set = preprocessing(test_set)"
   ]
  },
  {
   "cell_type": "code",
   "execution_count": 7,
   "metadata": {},
   "outputs": [],
   "source": [
    "import torch\n",
    "updated_training_set = torch.FloatTensor(updated_training_set)\n",
    "updated_test_set = torch.FloatTensor(updated_test_set)"
   ]
  },
  {
   "cell_type": "markdown",
   "metadata": {},
   "source": [
    "## Architecture of AutoEncoder and initializing optimizer"
   ]
  },
  {
   "cell_type": "code",
   "execution_count": 8,
   "metadata": {},
   "outputs": [],
   "source": [
    "import torch.nn as nn\n",
    "import torch.optim as optim"
   ]
  },
  {
   "cell_type": "code",
   "execution_count": 9,
   "metadata": {},
   "outputs": [],
   "source": [
    "class SAE(nn.Module):\n",
    "    def __init__(self, ):\n",
    "        super(SAE, self).__init__()\n",
    "        self.fc1 = nn.Linear(total_movies, 25)\n",
    "        self.fc2 = nn.Linear(25, 12)\n",
    "        self.fc3 = nn.Linear(12, 25)\n",
    "        self.fc4 = nn.Linear(25, total_movies)\n",
    "        self.activation = nn.Sigmoid()\n",
    "        \n",
    "    def forward(self, x):\n",
    "        x = self.activation(self.fc1(x))\n",
    "        x = self.activation(self.fc2(x))\n",
    "        x = self.activation(self.fc3(x))\n",
    "        x = self.fc4(x)\n",
    "        return x\n",
    "    \n",
    "sae = SAE()\n",
    "criterion = nn.MSELoss()\n",
    "optimizer = optim.RMSprop(sae.parameters(), lr = 0.01, weight_decay = 0.5)"
   ]
  },
  {
   "cell_type": "markdown",
   "metadata": {},
   "source": [
    "## Training and Calculating the Training Loss"
   ]
  },
  {
   "cell_type": "code",
   "execution_count": 10,
   "metadata": {},
   "outputs": [],
   "source": [
    "from torch.autograd import Variable"
   ]
  },
  {
   "cell_type": "code",
   "execution_count": 11,
   "metadata": {},
   "outputs": [
    {
     "name": "stdout",
     "output_type": "stream",
     "text": [
      "Epoch: 1 Loss: tensor(1.6873)\n",
      "Epoch: 2 Loss: tensor(1.0829)\n",
      "Epoch: 3 Loss: tensor(1.0494)\n",
      "Epoch: 4 Loss: tensor(1.0380)\n",
      "Epoch: 5 Loss: tensor(1.0327)\n",
      "Epoch: 6 Loss: tensor(1.0294)\n",
      "Epoch: 7 Loss: tensor(1.0276)\n",
      "Epoch: 8 Loss: tensor(1.0262)\n",
      "Epoch: 9 Loss: tensor(1.0250)\n",
      "Epoch: 10 Loss: tensor(1.0248)\n",
      "Epoch: 11 Loss: tensor(1.0241)\n",
      "Epoch: 12 Loss: tensor(1.0237)\n",
      "Epoch: 13 Loss: tensor(1.0231)\n",
      "Epoch: 14 Loss: tensor(1.0228)\n",
      "Epoch: 15 Loss: tensor(1.0229)\n",
      "Epoch: 16 Loss: tensor(1.0226)\n",
      "Epoch: 17 Loss: tensor(1.0223)\n",
      "Epoch: 18 Loss: tensor(1.0219)\n",
      "Epoch: 19 Loss: tensor(1.0218)\n",
      "Epoch: 20 Loss: tensor(1.0212)\n",
      "Epoch: 21 Loss: tensor(1.0197)\n",
      "Epoch: 22 Loss: tensor(1.0167)\n",
      "Epoch: 23 Loss: tensor(1.0152)\n",
      "Epoch: 24 Loss: tensor(1.0142)\n",
      "Epoch: 25 Loss: tensor(1.0096)\n",
      "Epoch: 26 Loss: tensor(1.0109)\n",
      "Epoch: 27 Loss: tensor(1.0068)\n",
      "Epoch: 28 Loss: tensor(1.0072)\n",
      "Epoch: 29 Loss: tensor(1.0032)\n",
      "Epoch: 30 Loss: tensor(1.0025)\n",
      "Epoch: 31 Loss: tensor(0.9992)\n",
      "Epoch: 32 Loss: tensor(0.9976)\n",
      "Epoch: 33 Loss: tensor(0.9948)\n",
      "Epoch: 34 Loss: tensor(0.9937)\n",
      "Epoch: 35 Loss: tensor(0.9890)\n",
      "Epoch: 36 Loss: tensor(0.9911)\n",
      "Epoch: 37 Loss: tensor(0.9870)\n",
      "Epoch: 38 Loss: tensor(0.9858)\n",
      "Epoch: 39 Loss: tensor(0.9841)\n",
      "Epoch: 40 Loss: tensor(0.9797)\n",
      "Epoch: 41 Loss: tensor(0.9813)\n",
      "Epoch: 42 Loss: tensor(0.9827)\n",
      "Epoch: 43 Loss: tensor(0.9781)\n",
      "Epoch: 44 Loss: tensor(0.9789)\n",
      "Epoch: 45 Loss: tensor(0.9745)\n",
      "Epoch: 46 Loss: tensor(0.9756)\n",
      "Epoch: 47 Loss: tensor(0.9723)\n",
      "Epoch: 48 Loss: tensor(0.9706)\n",
      "Epoch: 49 Loss: tensor(0.9687)\n",
      "Epoch: 50 Loss: tensor(0.9707)\n",
      "Epoch: 51 Loss: tensor(0.9650)\n",
      "Epoch: 52 Loss: tensor(0.9645)\n",
      "Epoch: 53 Loss: tensor(0.9614)\n",
      "Epoch: 54 Loss: tensor(0.9611)\n",
      "Epoch: 55 Loss: tensor(0.9596)\n",
      "Epoch: 56 Loss: tensor(0.9594)\n",
      "Epoch: 57 Loss: tensor(0.9616)\n",
      "Epoch: 58 Loss: tensor(0.9634)\n",
      "Epoch: 59 Loss: tensor(0.9601)\n",
      "Epoch: 60 Loss: tensor(0.9598)\n",
      "Epoch: 61 Loss: tensor(0.9587)\n",
      "Epoch: 62 Loss: tensor(0.9578)\n",
      "Epoch: 63 Loss: tensor(0.9570)\n",
      "Epoch: 64 Loss: tensor(0.9566)\n",
      "Epoch: 65 Loss: tensor(0.9568)\n",
      "Epoch: 66 Loss: tensor(0.9561)\n",
      "Epoch: 67 Loss: tensor(0.9528)\n",
      "Epoch: 68 Loss: tensor(0.9520)\n",
      "Epoch: 69 Loss: tensor(0.9487)\n",
      "Epoch: 70 Loss: tensor(0.9503)\n",
      "Epoch: 71 Loss: tensor(0.9489)\n",
      "Epoch: 72 Loss: tensor(0.9482)\n",
      "Epoch: 73 Loss: tensor(0.9475)\n",
      "Epoch: 74 Loss: tensor(0.9473)\n",
      "Epoch: 75 Loss: tensor(0.9447)\n",
      "Epoch: 76 Loss: tensor(0.9452)\n",
      "Epoch: 77 Loss: tensor(0.9436)\n",
      "Epoch: 78 Loss: tensor(0.9455)\n",
      "Epoch: 79 Loss: tensor(0.9417)\n",
      "Epoch: 80 Loss: tensor(0.9420)\n",
      "Epoch: 81 Loss: tensor(0.9399)\n",
      "Epoch: 82 Loss: tensor(0.9413)\n",
      "Epoch: 83 Loss: tensor(0.9392)\n",
      "Epoch: 84 Loss: tensor(0.9395)\n",
      "Epoch: 85 Loss: tensor(0.9385)\n",
      "Epoch: 86 Loss: tensor(0.9392)\n",
      "Epoch: 87 Loss: tensor(0.9375)\n",
      "Epoch: 88 Loss: tensor(0.9381)\n",
      "Epoch: 89 Loss: tensor(0.9369)\n",
      "Epoch: 90 Loss: tensor(0.9371)\n",
      "Epoch: 91 Loss: tensor(0.9358)\n",
      "Epoch: 92 Loss: tensor(0.9364)\n",
      "Epoch: 93 Loss: tensor(0.9352)\n",
      "Epoch: 94 Loss: tensor(0.9356)\n",
      "Epoch: 95 Loss: tensor(0.9348)\n",
      "Epoch: 96 Loss: tensor(0.9345)\n",
      "Epoch: 97 Loss: tensor(0.9343)\n",
      "Epoch: 98 Loss: tensor(0.9340)\n",
      "Epoch: 99 Loss: tensor(0.9336)\n",
      "Epoch: 100 Loss: tensor(0.9333)\n",
      "Epoch: 101 Loss: tensor(0.9327)\n",
      "Epoch: 102 Loss: tensor(0.9312)\n",
      "Epoch: 103 Loss: tensor(0.9320)\n",
      "Epoch: 104 Loss: tensor(0.9322)\n",
      "Epoch: 105 Loss: tensor(0.9314)\n",
      "Epoch: 106 Loss: tensor(0.9317)\n",
      "Epoch: 107 Loss: tensor(0.9311)\n",
      "Epoch: 108 Loss: tensor(0.9311)\n",
      "Epoch: 109 Loss: tensor(0.9302)\n",
      "Epoch: 110 Loss: tensor(0.9303)\n",
      "Epoch: 111 Loss: tensor(0.9297)\n",
      "Epoch: 112 Loss: tensor(0.9298)\n",
      "Epoch: 113 Loss: tensor(0.9290)\n",
      "Epoch: 114 Loss: tensor(0.9286)\n",
      "Epoch: 115 Loss: tensor(0.9285)\n",
      "Epoch: 116 Loss: tensor(0.9282)\n",
      "Epoch: 117 Loss: tensor(0.9282)\n",
      "Epoch: 118 Loss: tensor(0.9301)\n",
      "Epoch: 119 Loss: tensor(0.9312)\n",
      "Epoch: 120 Loss: tensor(0.9293)\n",
      "Epoch: 121 Loss: tensor(0.9297)\n",
      "Epoch: 122 Loss: tensor(0.9286)\n",
      "Epoch: 123 Loss: tensor(0.9285)\n",
      "Epoch: 124 Loss: tensor(0.9279)\n",
      "Epoch: 125 Loss: tensor(0.9275)\n",
      "Epoch: 126 Loss: tensor(0.9270)\n",
      "Epoch: 127 Loss: tensor(0.9271)\n",
      "Epoch: 128 Loss: tensor(0.9264)\n",
      "Epoch: 129 Loss: tensor(0.9265)\n",
      "Epoch: 130 Loss: tensor(0.9258)\n",
      "Epoch: 131 Loss: tensor(0.9258)\n",
      "Epoch: 132 Loss: tensor(0.9253)\n",
      "Epoch: 133 Loss: tensor(0.9254)\n",
      "Epoch: 134 Loss: tensor(0.9247)\n",
      "Epoch: 135 Loss: tensor(0.9248)\n",
      "Epoch: 136 Loss: tensor(0.9242)\n",
      "Epoch: 137 Loss: tensor(0.9242)\n",
      "Epoch: 138 Loss: tensor(0.9237)\n",
      "Epoch: 139 Loss: tensor(0.9238)\n",
      "Epoch: 140 Loss: tensor(0.9231)\n",
      "Epoch: 141 Loss: tensor(0.9231)\n",
      "Epoch: 142 Loss: tensor(0.9225)\n",
      "Epoch: 143 Loss: tensor(0.9227)\n",
      "Epoch: 144 Loss: tensor(0.9222)\n",
      "Epoch: 145 Loss: tensor(0.9221)\n",
      "Epoch: 146 Loss: tensor(0.9222)\n",
      "Epoch: 147 Loss: tensor(0.9215)\n",
      "Epoch: 148 Loss: tensor(0.9213)\n",
      "Epoch: 149 Loss: tensor(0.9213)\n",
      "Epoch: 150 Loss: tensor(0.9209)\n",
      "Epoch: 151 Loss: tensor(0.9210)\n",
      "Epoch: 152 Loss: tensor(0.9202)\n",
      "Epoch: 153 Loss: tensor(0.9204)\n",
      "Epoch: 154 Loss: tensor(0.9196)\n",
      "Epoch: 155 Loss: tensor(0.9200)\n",
      "Epoch: 156 Loss: tensor(0.9192)\n",
      "Epoch: 157 Loss: tensor(0.9198)\n",
      "Epoch: 158 Loss: tensor(0.9189)\n",
      "Epoch: 159 Loss: tensor(0.9191)\n",
      "Epoch: 160 Loss: tensor(0.9184)\n",
      "Epoch: 161 Loss: tensor(0.9188)\n",
      "Epoch: 162 Loss: tensor(0.9201)\n",
      "Epoch: 163 Loss: tensor(0.9200)\n",
      "Epoch: 164 Loss: tensor(0.9196)\n",
      "Epoch: 165 Loss: tensor(0.9195)\n",
      "Epoch: 166 Loss: tensor(0.9187)\n",
      "Epoch: 167 Loss: tensor(0.9188)\n",
      "Epoch: 168 Loss: tensor(0.9180)\n",
      "Epoch: 169 Loss: tensor(0.9183)\n",
      "Epoch: 170 Loss: tensor(0.9176)\n",
      "Epoch: 171 Loss: tensor(0.9178)\n",
      "Epoch: 172 Loss: tensor(0.9170)\n",
      "Epoch: 173 Loss: tensor(0.9175)\n",
      "Epoch: 174 Loss: tensor(0.9164)\n",
      "Epoch: 175 Loss: tensor(0.9175)\n",
      "Epoch: 176 Loss: tensor(0.9164)\n",
      "Epoch: 177 Loss: tensor(0.9169)\n",
      "Epoch: 178 Loss: tensor(0.9158)\n",
      "Epoch: 179 Loss: tensor(0.9165)\n",
      "Epoch: 180 Loss: tensor(0.9156)\n",
      "Epoch: 181 Loss: tensor(0.9161)\n",
      "Epoch: 182 Loss: tensor(0.9153)\n",
      "Epoch: 183 Loss: tensor(0.9158)\n",
      "Epoch: 184 Loss: tensor(0.9146)\n",
      "Epoch: 185 Loss: tensor(0.9151)\n",
      "Epoch: 186 Loss: tensor(0.9144)\n",
      "Epoch: 187 Loss: tensor(0.9150)\n",
      "Epoch: 188 Loss: tensor(0.9140)\n",
      "Epoch: 189 Loss: tensor(0.9147)\n",
      "Epoch: 190 Loss: tensor(0.9136)\n",
      "Epoch: 191 Loss: tensor(0.9142)\n",
      "Epoch: 192 Loss: tensor(0.9131)\n",
      "Epoch: 193 Loss: tensor(0.9142)\n",
      "Epoch: 194 Loss: tensor(0.9130)\n",
      "Epoch: 195 Loss: tensor(0.9137)\n",
      "Epoch: 196 Loss: tensor(0.9126)\n",
      "Epoch: 197 Loss: tensor(0.9132)\n",
      "Epoch: 198 Loss: tensor(0.9122)\n",
      "Epoch: 199 Loss: tensor(0.9131)\n",
      "Epoch: 200 Loss: tensor(0.9120)\n"
     ]
    }
   ],
   "source": [
    "epochs = 200\n",
    "for epoch in range(1, epochs + 1):\n",
    "    train_loss = 0\n",
    "    s = 0.\n",
    "    for user in range(total_users):\n",
    "        input = Variable(updated_training_set[user]).unsqueeze(0)\n",
    "        target = input.clone()\n",
    "        if torch.sum(target.data > 0 ) > 0:\n",
    "            output = sae(input)\n",
    "            target.require_grad = False\n",
    "            output[target == 0] = 0\n",
    "            loss = criterion(output, target)\n",
    "            mean_corrector = total_movies/float(torch.sum(target.data > 0)+ 1e-10)\n",
    "            loss.backward()\n",
    "            train_loss  += np.sqrt(loss.data * mean_corrector)\n",
    "            s += 1.\n",
    "            optimizer.step()\n",
    "    print('Epoch: '+str(epoch)+ ' Loss: '+str(train_loss/s))"
   ]
  },
  {
   "cell_type": "markdown",
   "metadata": {},
   "source": [
    "## Testing and Calculating the Test Loss"
   ]
  },
  {
   "cell_type": "code",
   "execution_count": 13,
   "metadata": {},
   "outputs": [
    {
     "name": "stdout",
     "output_type": "stream",
     "text": [
      "test loss: tensor(0.9551)\n"
     ]
    }
   ],
   "source": [
    "test_loss = 0\n",
    "s = 0.\n",
    "for user in range(total_users):\n",
    "  input = Variable(updated_training_set[user]).unsqueeze(0)\n",
    "  target = Variable(updated_test_set[user]).unsqueeze(0)\n",
    "  if torch.sum(target.data > 0) > 0:\n",
    "    output = sae(input)\n",
    "    target.require_grad = False\n",
    "    output[target == 0] = 0\n",
    "    loss = criterion(output, target)\n",
    "    mean_corrector = total_movies/float(torch.sum(target.data > 0) + 1e-10)\n",
    "    test_loss += np.sqrt(loss.data * mean_corrector)\n",
    "    s += 1.\n",
    "print('test loss: '+str(test_loss/s))"
   ]
  },
  {
   "cell_type": "code",
   "execution_count": null,
   "metadata": {},
   "outputs": [],
   "source": []
  }
 ],
 "metadata": {
  "kernelspec": {
   "display_name": "Python 3",
   "language": "python",
   "name": "python3"
  },
  "language_info": {
   "codemirror_mode": {
    "name": "ipython",
    "version": 3
   },
   "file_extension": ".py",
   "mimetype": "text/x-python",
   "name": "python",
   "nbconvert_exporter": "python",
   "pygments_lexer": "ipython3",
   "version": "3.8.5"
  }
 },
 "nbformat": 4,
 "nbformat_minor": 4
}
